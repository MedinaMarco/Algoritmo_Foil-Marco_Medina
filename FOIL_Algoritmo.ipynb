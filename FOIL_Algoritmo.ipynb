{
  "nbformat": 4,
  "nbformat_minor": 0,
  "metadata": {
    "colab": {
      "provenance": []
    },
    "kernelspec": {
      "name": "python3",
      "display_name": "Python 3"
    },
    "language_info": {
      "name": "python"
    }
  },
  "cells": [
    {
      "cell_type": "markdown",
      "source": [
        "# **Actividad 1: encontrar atributos unicos**"
      ],
      "metadata": {
        "id": "G4eWpEpSpSI-"
      }
    },
    {
      "cell_type": "code",
      "source": [
        "\n",
        "datos = [\n",
        "{\"edad\": 22, \"departamento\": \"IT\", \"nivel_educativo\": \"terciario\", \"en_formacion\": True},\n",
        "{\"edad\": 24, \"departamento\": \"IT\", \"nivel_educativo\": \"universitario\", \"en_formacion\": True},\n",
        "{\"edad\": 21, \"departamento\": \"RRHH\", \"nivel_educativo\": \"terciario\", \"en_formacion\": True},\n",
        "{\"edad\": 35, \"departamento\": \"IT\", \"nivel_educativo\": \"universitario\", \"en_formacion\": False},\n",
        "{\"edad\": 40, \"departamento\": \"Finanzas\", \"nivel_educativo\": \"maestría\", \"en_formacion\": False},\n",
        "{\"edad\": 29, \"departamento\": \"RRHH\", \"nivel_educativo\": \"universitario\", \"en_formacion\": False},\n",
        "{\"edad\": 23, \"departamento\": \"IT\", \"nivel_educativo\": \"terciario\", \"en_formacion\": True},\n",
        "{\"edad\": 38, \"departamento\": \"Finanzas\", \"nivel_educativo\": \"universitario\", \"en_formacion\": False}]\n",
        "\n",
        "\n",
        "positivos = [p for p in datos if p[\"en_formacion\"]]\n",
        "negativos = [p for p in datos if not p[\"en_formacion\"]]\n",
        "\n",
        "\n",
        "\n",
        "def inducir_regla(positivos, negativos):\n",
        "    atributos = [\"edad\", \"departamento\", \"nivel_educativo\"]\n",
        "    regla = {}\n",
        "\n",
        "    for atributo in atributos:\n",
        "        valores_pos = set(p[atributo] for p in positivos)\n",
        "        valores_neg = set(p[atributo] for p in negativos)\n",
        "\n",
        "        if atributo == \"edad\":\n",
        "            valores_validos = [v for v in valores_pos if v not in valores_neg]\n",
        "        else:\n",
        "            valores_validos = list(valores_pos - valores_neg)\n",
        "\n",
        "\n",
        "        if atributo == \"departamento\":\n",
        "            regla[atributo] = list(valores_pos)\n",
        "        elif valores_validos:\n",
        "            regla[atributo] = valores_validos\n",
        "\n",
        "    return regla\n",
        "\n",
        "regla_inducida = inducir_regla(positivos, negativos)\n",
        "\n",
        "print(\"regla inducida para identificar a un alumno: \")\n",
        "for atributo, valores in regla_inducida.items():\n",
        "  print(f\"{atributo} debe ser uno de: {valores}\")"
      ],
      "metadata": {
        "colab": {
          "base_uri": "https://localhost:8080/"
        },
        "id": "P7jW1QRQ2ap0",
        "outputId": "fd553f0e-55f4-41bd-c138-c2847b830fe5"
      },
      "execution_count": 9,
      "outputs": [
        {
          "output_type": "stream",
          "name": "stdout",
          "text": [
            "regla inducida para identificar a un alumno: \n",
            "edad debe ser uno de: [24, 21, 22, 23]\n",
            "departamento debe ser uno de: ['RRHH', 'IT']\n",
            "nivel_educativo debe ser uno de: ['terciario']\n"
          ]
        }
      ]
    },
    {
      "cell_type": "markdown",
      "source": [
        "# **Actividad 2: Aplicar FOIL Gain**"
      ],
      "metadata": {
        "id": "KaT5Y8qTpYw3"
      }
    },
    {
      "cell_type": "code",
      "source": [
        "import math\n",
        "\n",
        "def calcular_foil_gain(datos, condicion_atributo, condicion_valor):\n",
        "    # Contadores iniciales (antes de aplicar la condición)\n",
        "    P = sum(1 for p in datos if p[\"en_formacion\"])\n",
        "    N = sum(1 for p in datos if not p[\"en_formacion\"])\n",
        "\n",
        "    # Contadores después de aplicar la condición\n",
        "    p = sum(1 for p in datos if p[condicion_atributo] == condicion_valor and p[\"en_formacion\"])\n",
        "    n = sum(1 for p in datos if p[condicion_atributo] == condicion_valor and not p[\"en_formacion\"])\n",
        "\n",
        "    # Cálculos para FOIL Gain\n",
        "    def log2_safe(x):\n",
        "      return math.log2(x) if x > 0 else float('-inf')\n",
        "\n",
        "    foil_gain = p * (log2_safe(p / (p + n)) - log2_safe(P / (P + N)))\n",
        "\n",
        "    # Mostrar resultados\n",
        "    print(f\"P = {P}, N = {N}\")\n",
        "    print(f\"p = {p}, n = {n}\")\n",
        "    print(f\"p / (p + n) = {p / (p + n):.3f}\")\n",
        "    print(f\"P / (P + N) = {P / (P + N):.3f}\")\n",
        "    print(f\"log2(p / (p + n)) = {log2_safe(p / (p + n)):.3f}\")\n",
        "    print(f\"log2(P / (P + N)) = {log2_safe(P / (P + N)):.3f}\")\n",
        "    print(f\"FOIL Gain = {foil_gain:.3f}\")\n",
        "\n",
        "    return foil_gain\n",
        "\n",
        "# Calcular FOIL Gain para nivel_educativo == 'terciario'\n",
        "foil_gain = calcular_foil_gain(datos, \"nivel_educativo\", \"terciario\")"
      ],
      "metadata": {
        "colab": {
          "base_uri": "https://localhost:8080/"
        },
        "id": "8Bg25Z8SpdTv",
        "outputId": "9152cc42-6d34-45c3-8a20-93aef0c55e3d"
      },
      "execution_count": 11,
      "outputs": [
        {
          "output_type": "stream",
          "name": "stdout",
          "text": [
            "P = 4, N = 4\n",
            "p = 3, n = 0\n",
            "p / (p + n) = 1.000\n",
            "P / (P + N) = 0.500\n",
            "log2(p / (p + n)) = 0.000\n",
            "log2(P / (P + N)) = -1.000\n",
            "FOIL Gain = 3.000\n"
          ]
        }
      ]
    },
    {
      "cell_type": "markdown",
      "source": [
        "# **Actividad 3: Aplicar FOIL Gain pero con al condicion de edad**"
      ],
      "metadata": {
        "id": "ksWgSNGszuMO"
      }
    },
    {
      "cell_type": "code",
      "source": [
        "import math\n",
        "\n",
        "def calcular_edad_foil_gain(datos, edad_limite):\n",
        "    # Contadores iniciales (antes de aplicar la condición)\n",
        "    P = sum(1 for p in datos if p[\"en_formacion\"])\n",
        "    N = sum(1 for p in datos if not p[\"en_formacion\"])\n",
        "\n",
        "    # Contadores después de aplicar la condición\n",
        "    p = sum(1 for p in datos if p[\"edad\"] <= edad_limite and p[\"en_formacion\"])\n",
        "    n = sum(1 for p in datos if p[\"edad\"] <= edad_limite and not p[\"en_formacion\"])\n",
        "\n",
        "    # Cálculos para FOIL Gain\n",
        "    def log2_safe(x):\n",
        "      return math.log2(x) if x > 0 else float('-inf')\n",
        "\n",
        "    foil_gain = p * (log2_safe(p / (p + n)) - log2_safe(P / (P + N)))\n",
        "\n",
        "    # Mostrar resultados\n",
        "    print(f\"La condicion: edad <= {edad_limite}\")\n",
        "    print(f\"P = {P}, N = {N}\")\n",
        "    print(f\"p = {p}, n = {n}\")\n",
        "    print(f\"p / (p + n) = {p / (p + n):.3f}\")\n",
        "    print(f\"P / (P + N) = {P / (P + N):.3f}\")\n",
        "    print(f\"log2(p / (p + n)) = {log2_safe(p / (p + n)):.3f}\")\n",
        "    print(f\"log2(P / (P + N)) = {log2_safe(P / (P + N)):.3f}\")\n",
        "    print(f\"FOIL Gain = {foil_gain:.3f}\")\n",
        "\n",
        "    return foil_gain\n",
        "\n",
        "    # Calcular FOIL Gain para \"edad\" =< 23\n",
        "foil_gain = calcular_edad_foil_gain(datos, 23)"
      ],
      "metadata": {
        "colab": {
          "base_uri": "https://localhost:8080/"
        },
        "id": "Ju8ZgFe53EWe",
        "outputId": "72d4226c-c535-464c-dacf-ad41c3e7479b"
      },
      "execution_count": 19,
      "outputs": [
        {
          "output_type": "stream",
          "name": "stdout",
          "text": [
            "La condicion: edad <= 23\n",
            "P = 4, N = 4\n",
            "p = 3, n = 0\n",
            "p / (p + n) = 1.000\n",
            "P / (P + N) = 0.500\n",
            "log2(p / (p + n)) = 0.000\n",
            "log2(P / (P + N)) = -1.000\n",
            "FOIL Gain = 3.000\n"
          ]
        }
      ]
    }
  ]
}